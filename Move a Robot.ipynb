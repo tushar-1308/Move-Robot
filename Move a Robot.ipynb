{
 "cells": [
  {
   "cell_type": "code",
   "execution_count": 42,
   "metadata": {},
   "outputs": [
    {
     "name": "stdout",
     "output_type": "stream",
     "text": [
      "Enter horizontal movement, or q to quit: 10\n",
      "Enter vertical movement, or q to quit: 10\n",
      "Enter horizontal movement, or q to quit: 15\n",
      "Enter vertical movement, or q to quit: 15\n",
      "Enter horizontal movement, or q to quit: -20\n",
      "Enter vertical movement, or q to quit: -25\n",
      "Enter horizontal movement, or q to quit: +50\n",
      "Enter vertical movement, or q to quit: -80\n",
      "Enter horizontal movement, or q to quit: q\n",
      "The robot is finally at 55.0, -80.0\n",
      "The robot has travelled a distance of 95.0 horizontally, 130.0 vertically\n"
     ]
    }
   ],
   "source": [
    "class Robot:\n",
    "    def __init__(self, instruction_file):\n",
    "        self.instruction_file = instruction_file\n",
    "        self.instruction_list = None\n",
    "        \n",
    "    def write_instructions(self):\n",
    "        f=open(self.instruction_file,'w')\n",
    "        while True:\n",
    "            \n",
    "            movement_x = input('Enter horizontal movement, or q to quit: ')\n",
    "            if movement_x == 'q':\n",
    "                break\n",
    "            f.write(movement_x + '\\n')\n",
    "            \n",
    "            movement_y = input('Enter vertical movement, or q to quit: ')\n",
    "            if movement_y == 'q':\n",
    "                break\n",
    "#             store x and y movements alternately on separate lines\n",
    "#             write both x and y movements when both are received\n",
    "            f.write(movement_y + '\\n')\n",
    "    \n",
    "        f.close()\n",
    "    \n",
    "    \n",
    "    def read_instructions(self):\n",
    "        try:\n",
    "            f=open(self.instruction_file, 'r')\n",
    "        except FileNotFoundError as error:\n",
    "            print(error)\n",
    "        else:\n",
    "#             store (movements + '\\n') as elements in a list\n",
    "            self.instruction_list = f.readlines()\n",
    "            f.close()\n",
    "    \n",
    "    def get_location(self):\n",
    "        position_x, position_y = 0,0\n",
    "        distance_x, distance_y = 0,0\n",
    "        self.read_instructions()\n",
    "        if self.instruction_list != None:\n",
    "            for i in range(len(self.instruction_list)):\n",
    "                # exclude '\\n' at the end of the movement\n",
    "                if i%2==0:\n",
    "                    data = self.instruction_list[i]\n",
    "                    temp = data[:-1]\n",
    "                    position_x += float(temp)\n",
    "                    distance_x += abs(float(temp))\n",
    "                else:\n",
    "                    # get y movement from even line numbers\n",
    "                    data = self.instruction_list[i]\n",
    "                    temp = data[:-1]\n",
    "                    position_y += float(temp)\n",
    "                    distance_y += abs(float(temp))\n",
    "        return position_x, position_y, distance_x, distance_y\n",
    "        \n",
    "robot_1 = Robot('robot_1.txt')\n",
    "robot_1.write_instructions()\n",
    "pos_x, pos_y, dis_x, dis_y = robot_1.get_location()\n",
    "print('The robot is finally at '+str(pos_x)+', '+str(pos_y))\n",
    "print('The robot has travelled a distance of '+str(dis_x)+' horizontally, '+str(dis_y)+' vertically')        "
   ]
  },
  {
   "cell_type": "code",
   "execution_count": null,
   "metadata": {},
   "outputs": [],
   "source": []
  }
 ],
 "metadata": {
  "kernelspec": {
   "display_name": "Python 3",
   "language": "python",
   "name": "python3"
  },
  "language_info": {
   "codemirror_mode": {
    "name": "ipython",
    "version": 3
   },
   "file_extension": ".py",
   "mimetype": "text/x-python",
   "name": "python",
   "nbconvert_exporter": "python",
   "pygments_lexer": "ipython3",
   "version": "3.6.4"
  }
 },
 "nbformat": 4,
 "nbformat_minor": 2
}
